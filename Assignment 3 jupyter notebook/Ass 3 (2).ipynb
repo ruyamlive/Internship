{
 "cells": [
  {
   "cell_type": "markdown",
   "id": "2658a484",
   "metadata": {},
   "source": [
    "# Assignment 03"
   ]
  },
  {
   "cell_type": "markdown",
   "id": "f5d91612",
   "metadata": {},
   "source": [
    "Question 1- Write a Python program to replace all occurrences of a space, comma, or dot with a colon."
   ]
  },
  {
   "cell_type": "code",
   "execution_count": 21,
   "id": "9a55b832",
   "metadata": {
    "scrolled": true
   },
   "outputs": [
    {
     "name": "stdout",
     "output_type": "stream",
     "text": [
      "Python:Exercises::PHP:exercises:\n"
     ]
    }
   ],
   "source": [
    "import re\n",
    "\n",
    "def replace_occurrences_of_a_space_comma_or_dot (input_string):\n",
    "    pattern = re.compile(r'[ ,.]')\n",
    "    replaced_string = re.sub(pattern, ':', input_string)\n",
    "    return replaced_string\n",
    "\n",
    "sample_text = 'Python Exercises, PHP exercises.'\n",
    "result = replace_occurrences_of_a_space_comma_or_dot(sample_text)\n",
    "print(result)\n"
   ]
  },
  {
   "cell_type": "markdown",
   "id": "aa08d7f3",
   "metadata": {},
   "source": [
    "Question 2- Create a dataframe using the dictionary below and remove everything (commas (,), !, XXXX, ;, etc.) from the columns except words."
   ]
  },
  {
   "cell_type": "code",
   "execution_count": 22,
   "id": "166a3707",
   "metadata": {},
   "outputs": [
    {
     "name": "stdout",
     "output_type": "stream",
     "text": [
      "['hello world', 'XXXXX test', 'four five six']\n"
     ]
    }
   ],
   "source": [
    "import re\n",
    "\n",
    "summary_data = ['hello, world!', 'XXXXX test', '123four, five:; six...']\n",
    "\n",
    "\n",
    "cleaned_data = []\n",
    "for text in summary_data:\n",
    "    cleaned_text = re.sub(r'[^a-zA-Z\\s]', '', text)\n",
    "    cleaned_data.append(cleaned_text)\n",
    "\n",
    "\n",
    "print(cleaned_data)\n"
   ]
  },
  {
   "cell_type": "markdown",
   "id": "a99c2b76",
   "metadata": {},
   "source": [
    "Question 3- Create a function in python to find all words that are at least 4 characters long in a string. The use of the re.compile() method is mandatory."
   ]
  },
  {
   "cell_type": "code",
   "execution_count": 23,
   "id": "5e6e017c",
   "metadata": {},
   "outputs": [
    {
     "name": "stdout",
     "output_type": "stream",
     "text": [
      "['Python', 'powerful', 'programming', 'language', 'Regex', 'tricky', 'useful']\n"
     ]
    }
   ],
   "source": [
    "import re\n",
    "\n",
    "def find_words_at_least_4_characters(input_string):\n",
    "    pattern = re.compile(r'\\b\\w{4,}\\b')\n",
    "    result = pattern.findall(input_string)\n",
    "    return result\n",
    "\n",
    "# Sample\n",
    "sample_text = \"Python is a powerful programming language. Regex can be tricky, but it's useful!\"\n",
    "found_words = find_words_at_least_4_characters(sample_text)\n",
    "print(found_words)\n"
   ]
  },
  {
   "cell_type": "markdown",
   "id": "b8ffc2f2",
   "metadata": {},
   "source": [
    "Question 4- Create a function in python to find all three, four, and five character words in a string. The use of the re.compile() method is mandatory."
   ]
  },
  {
   "cell_type": "code",
   "execution_count": 26,
   "id": "f5281469",
   "metadata": {},
   "outputs": [
    {
     "name": "stdout",
     "output_type": "stream",
     "text": [
      "['India', 'the', 'India', 'ISO', 'South', 'Asia', 'the', 'area', 'the', 'most', 'June', '2023', 'and', 'from', 'the', 'time', 'its', '1947', 'the', 'world', 'most']\n"
     ]
    }
   ],
   "source": [
    "import re\n",
    "\n",
    "def find_words_three_four_five_characters(input_string):\n",
    "    pattern = re.compile(r'\\b\\w{3,5}\\b')\n",
    "    result = pattern.findall(input_string)\n",
    "    return result\n",
    "\n",
    "# Sample\n",
    "sample_text = \"India, officially the Republic of India (ISO: Bhārat Gaṇarājya), is a country in South Asia. It is the seventh-largest country by area; the most populous country as of June 2023; and from the time of its independence in 1947, the world's most populous democracy.\"\n",
    "\n",
    "found_words = find_words_three_four_five_characters(sample_text)\n",
    "print(found_words)\n"
   ]
  },
  {
   "cell_type": "markdown",
   "id": "3c86ca0e",
   "metadata": {},
   "source": [
    "Question 5- Create a function in Python to remove the parenthesis in a list of strings. The use of the re.compile() method is mandatory."
   ]
  },
  {
   "cell_type": "code",
   "execution_count": 30,
   "id": "c3e2a243",
   "metadata": {},
   "outputs": [
    {
     "name": "stdout",
     "output_type": "stream",
     "text": [
      "['example ', 'hr@fliprobo ', 'github ', 'Hello ', 'Data ']\n"
     ]
    }
   ],
   "source": [
    "import re\n",
    "\n",
    "def remove_parentheses(strings_list):\n",
    "    pattern = re.compile(r'())')\n",
    "    result = [pattern.sub('', s) for s in strings_list]\n",
    "    return result\n",
    "\n",
    "# Sample\n",
    "sample_text = [\"example (.com)\", \"hr@fliprobo (.com)\", \"github (.com)\", \"Hello (Data Science World)\", \"Data (Scientist)\"]\n",
    "\n",
    "\n",
    "print(result_without_parentheses)\n"
   ]
  },
  {
   "cell_type": "markdown",
   "id": "d9378d4c",
   "metadata": {},
   "source": [
    "Q.6"
   ]
  },
  {
   "cell_type": "code",
   "execution_count": 39,
   "id": "043de005",
   "metadata": {},
   "outputs": [
    {
     "name": "stdout",
     "output_type": "stream",
     "text": [
      "example \n",
      "hr@fliprobo \n",
      "github \n",
      "Hello \n",
      "Data \n"
     ]
    }
   ],
   "source": [
    "import re\n",
    "\n",
    "def remove_parentheses_from_text(text):\n",
    "    pattern = re.compile(r'\\([^)]*\\)')\n",
    "    updated_text = pattern.sub('', text)\n",
    "    return updated_text\n",
    "\n",
    "# Sample\n",
    "sample_text = [ \"example (.com)\",  \"hr@fliprobo (.com)\", \"github (.com)\", \"Hello (Data Science World)\", \"Data (Scientist)\"]\n",
    "\n",
    "updated_text = [remove_parentheses_from_text(line) for line in sample_text]\n",
    "\n",
    "for line in updated_text:\n",
    "    print(line)\n"
   ]
  },
  {
   "cell_type": "markdown",
   "id": "dec75294",
   "metadata": {},
   "source": [
    "Q.7"
   ]
  },
  {
   "cell_type": "code",
   "execution_count": 36,
   "id": "5ec27286",
   "metadata": {
    "scrolled": true
   },
   "outputs": [
    {
     "name": "stdout",
     "output_type": "stream",
     "text": [
      "Uppercase Letters:\n",
      "Importance\n",
      "Of\n",
      "Regular\n",
      "Expressions\n",
      "In\n",
      "Python\n"
     ]
    }
   ],
   "source": [
    "import re\n",
    "\n",
    "# Split string into uppercase letters.\n",
    "sample_text = \"ImportanceOfRegularExpressionsInPython\"\n",
    "\n",
    "uppercase_letters = re.findall('[A-Z][^A-Z]*', sample_text)\n",
    "\n",
    "print(\"Uppercase Letters:\")\n",
    "for letter in uppercase_letters:\n",
    "    print(letter)\n"
   ]
  },
  {
   "cell_type": "markdown",
   "id": "9fe4ee62",
   "metadata": {},
   "source": [
    "Question 8- Create a function in python to insert spaces between words starting with numbers.\n",
    "Sample Text: “RegularExpression1IsAn2ImportantTopic3InPython\"\n"
   ]
  },
  {
   "cell_type": "code",
   "execution_count": 43,
   "id": "3eb4f0e5",
   "metadata": {},
   "outputs": [
    {
     "name": "stdout",
     "output_type": "stream",
     "text": [
      "RegularExpression 1IsAn 2ImportantTopic 3InPython\n"
     ]
    }
   ],
   "source": [
    "import re\n",
    "\n",
    "def insert_space_before_numbers(text):\n",
    "    modified_text = re.sub(r'(?<=[A-Za-z])(?=\\d)', ' ', text)\n",
    "    return modified_text\n",
    "\n",
    "sample_text = \"RegularExpression1IsAn2ImportantTopic3InPython\"\n",
    "result = insert_space_before_numbers(sample_text)\n",
    "print(result)\n"
   ]
  },
  {
   "cell_type": "markdown",
   "id": "93e64ba3",
   "metadata": {},
   "source": [
    "Question 9- Create a function in python to insert spaces between words starting with capital letters or with numbers.\n",
    "Sample Text: “RegularExpression1IsAn2ImportantTopic3InPython\"\n"
   ]
  },
  {
   "cell_type": "code",
   "execution_count": 46,
   "id": "92855dd2",
   "metadata": {},
   "outputs": [
    {
     "name": "stdout",
     "output_type": "stream",
     "text": [
      "Regular Expression 1 Is An 2 Important Topic 3 In Python\n"
     ]
    }
   ],
   "source": [
    "import re\n",
    "\n",
    "def insert_spaces_between_words(text):\n",
    "    modified_text = re.sub(r'(?<=[a-z])(?=[A-Z0-9])|(?<=\\d)(?=[A-Za-z])', ' ', text)\n",
    "    return modified_text\n",
    "\n",
    "sample_text = \"RegularExpression1IsAn2ImportantTopic3InPython\"\n",
    "result = insert_spaces_between_words(sample_text)\n",
    "print(result)\n"
   ]
  },
  {
   "cell_type": "markdown",
   "id": "3a693ec7",
   "metadata": {},
   "source": [
    "Question 10- Use the github link below to read the data and create a dataframe. After creating the dataframe extract the first 6 letters of each country and store in the dataframe under a new column called first_five_letters.\n",
    "Github Link-  https://raw.githubusercontent.com/dsrs\tcientist/DSData/master/happiness_score_dataset.csv\n"
   ]
  },
  {
   "cell_type": "code",
   "execution_count": 4,
   "id": "dbd7790e",
   "metadata": {},
   "outputs": [
    {
     "name": "stdout",
     "output_type": "stream",
     "text": [
      "       Country          Region  Happiness Rank  Happiness Score  \\\n",
      "0  Switzerland  Western Europe               1            7.587   \n",
      "1      Iceland  Western Europe               2            7.561   \n",
      "2      Denmark  Western Europe               3            7.527   \n",
      "3       Norway  Western Europe               4            7.522   \n",
      "4       Canada   North America               5            7.427   \n",
      "\n",
      "   Standard Error  Economy (GDP per Capita)   Family  \\\n",
      "0         0.03411                   1.39651  1.34951   \n",
      "1         0.04884                   1.30232  1.40223   \n",
      "2         0.03328                   1.32548  1.36058   \n",
      "3         0.03880                   1.45900  1.33095   \n",
      "4         0.03553                   1.32629  1.32261   \n",
      "\n",
      "   Health (Life Expectancy)  Freedom  Trust (Government Corruption)  \\\n",
      "0                   0.94143  0.66557                        0.41978   \n",
      "1                   0.94784  0.62877                        0.14145   \n",
      "2                   0.87464  0.64938                        0.48357   \n",
      "3                   0.88521  0.66973                        0.36503   \n",
      "4                   0.90563  0.63297                        0.32957   \n",
      "\n",
      "   Generosity  Dystopia Residual first_six_letters  \n",
      "0     0.29678            2.51738            Switze  \n",
      "1     0.43630            2.70201            Icelan  \n",
      "2     0.34139            2.49204            Denmar  \n",
      "3     0.34699            2.46531            Norway  \n",
      "4     0.45811            2.45176            Canada  \n"
     ]
    }
   ],
   "source": [
    "import pandas as pd\n",
    "import re\n",
    "import requests\n",
    "\n",
    "url = \"https://raw.githubusercontent.com/dsrscientist/DSData/master/happiness_score_dataset.csv\"\n",
    "response = requests.get(url)\n",
    "with open(\"happiness_score_dataset.csv\", \"wb\") as file:\n",
    "    file.write(response.content)\n",
    "\n",
    "df = pd.read_csv(\"happiness_score_dataset.csv\")\n",
    "\n",
    "df[\"first_six_letters\"] = df[\"Country\"].apply(lambda x: re.search(r'^[a-zA-Z]{1,6}', x).group(0) if re.search(r'^[a-zA-Z]{1,6}', x) else \"\")\n",
    "\n",
    "print(df.head())\n"
   ]
  },
  {
   "cell_type": "markdown",
   "id": "9e1ffe6a",
   "metadata": {},
   "source": [
    "Question 11. Write a Python program to match a string that contains only upper and lowercase letters, numbers, and underscores."
   ]
  },
  {
   "cell_type": "code",
   "execution_count": 13,
   "id": "9b0768eb",
   "metadata": {},
   "outputs": [],
   "source": [
    "import re\n",
    "\n",
    "def string_that_contains_defined_data(input_string):\n",
    "    # Define the pattern\n",
    "    pattern = r'^[a-zA-Z0-9_]+$'\n",
    "    \n",
    "    match = re.match(pattern, input_string)\n",
    "    \n",
    "    return bool(match)\n"
   ]
  },
  {
   "cell_type": "markdown",
   "id": "bd8cc6cd",
   "metadata": {},
   "source": [
    "Question 12- Write a Python program where a string will start with a specific number. "
   ]
  },
  {
   "cell_type": "code",
   "execution_count": 14,
   "id": "547f994b",
   "metadata": {},
   "outputs": [],
   "source": [
    "def starts_with_number(input_string, specified_number):\n",
    "    # Convert the specified_number\n",
    "    specified_number_str = str(specified_number)\n",
    "    \n",
    "    # Check if the input_string\n",
    "    if input_string.startswith(specified_number_str):\n",
    "        return True\n",
    "    else:\n",
    "        return False\n"
   ]
  },
  {
   "cell_type": "markdown",
   "id": "923e07e4",
   "metadata": {},
   "source": [
    "Question 13- Write a Python program to remove leading zeros from an IP address"
   ]
  },
  {
   "cell_type": "code",
   "execution_count": 22,
   "id": "a6496686",
   "metadata": {},
   "outputs": [],
   "source": [
    "def remove_leading_zeros(ip_address):\n",
    "    segments = ip_address.split('.')\n",
    "    cleaned_segments = [str(int(segment)) for segment in segments]\n",
    "    cleaned_ip = '.'.join(cleaned_segments)\n",
    "    return cleaned_ip"
   ]
  },
  {
   "cell_type": "markdown",
   "id": "879268bc",
   "metadata": {},
   "source": [
    "Question 14- Write a regular expression in python to match a date string in the form of Month name followed by day number and year stored in a text file."
   ]
  },
  {
   "cell_type": "code",
   "execution_count": 25,
   "id": "c43949ce",
   "metadata": {},
   "outputs": [
    {
     "name": "stdout",
     "output_type": "stream",
     "text": [
      "Dates found in the sample text:\n",
      "August 15th 1947\n"
     ]
    }
   ],
   "source": [
    "import re\n",
    "\n",
    "date_pattern = re.compile(r'\\b(?:January|February|March|April|May|June|July|August|September|October|November|December)\\s\\d{1,2}(?:st|nd|rd|th)?\\s\\d{4}\\b')\n",
    "\n",
    "sample = 'On August 15th 1947 that India was declared independent from British colonialism, and the reins of control were handed over to the leaders of the Country.'\n",
    "\n",
    "matches = date_pattern.findall(sample_text)\n",
    "\n",
    "print(\"Dates found in the sample text:\")\n",
    "for match in matches:\n",
    "    print(match)\n"
   ]
  },
  {
   "cell_type": "markdown",
   "id": "6190a225",
   "metadata": {},
   "source": [
    "Question 15- Write a Python program to search some literals strings in a string. "
   ]
  },
  {
   "cell_type": "code",
   "execution_count": 27,
   "id": "8d3c42d6",
   "metadata": {},
   "outputs": [
    {
     "name": "stdout",
     "output_type": "stream",
     "text": [
      "Searched words found in the sample text:\n",
      "fox\n",
      "dog\n"
     ]
    }
   ],
   "source": [
    "def search_literals_in_a_string(text, searched_words):\n",
    "    found_words = []\n",
    "    for word in searched_words:\n",
    "        if word in text:\n",
    "            found_words.append(word)\n",
    "    return found_words\n",
    "\n",
    "sample_text = 'The quick brown fox jumps over the lazy dog.'\n",
    "searched_words = ['fox', 'dog', 'horse']\n",
    "\n",
    "found_words = search_literals_in_a_string(sample_text, searched_words)\n",
    "\n",
    "print(\"Searched words found in the sample text:\")\n",
    "for word in found_words:\n",
    "    print(word)\n"
   ]
  },
  {
   "cell_type": "markdown",
   "id": "745d1903",
   "metadata": {},
   "source": [
    "Question 16- Write a Python program to search a literals string in a string and also find the location within the original string where the pattern occurs\n"
   ]
  },
  {
   "cell_type": "code",
   "execution_count": 28,
   "id": "f3580d7a",
   "metadata": {},
   "outputs": [
    {
     "name": "stdout",
     "output_type": "stream",
     "text": [
      "The searched word 'fox' found at locations:\n",
      "16\n"
     ]
    }
   ],
   "source": [
    "def search_literal_with_location(text, searched_word):\n",
    "    locations = []\n",
    "    index = text.find(searched_word)\n",
    "    while index != -1:\n",
    "        locations.append(index)\n",
    "        index = text.find(searched_word, index + 1)\n",
    "    return locations\n",
    "\n",
    "sample_text = 'The quick brown fox jumps over the lazy dog.'\n",
    "searched_word = 'fox'\n",
    "\n",
    "found_locations = search_literal_with_location(sample_text, searched_word)\n",
    "\n",
    "print(f\"The searched word '{searched_word}' found at locations:\")\n",
    "for location in found_locations:\n",
    "    print(location)\n"
   ]
  },
  {
   "cell_type": "markdown",
   "id": "0dfd60c8",
   "metadata": {},
   "source": [
    "Question 17- Write a Python program to find the substrings within a string.\n",
    "Sample text : 'Python exercises, PHP exercises, C# exercises'\n",
    "Pattern : 'exercises'.\n"
   ]
  },
  {
   "cell_type": "code",
   "execution_count": 29,
   "id": "e588693e",
   "metadata": {},
   "outputs": [
    {
     "name": "stdout",
     "output_type": "stream",
     "text": [
      "The substrings 'exercises' found at locations:\n",
      "Start: 7, End: 16, Substring: 'exercises'\n",
      "Start: 22, End: 31, Substring: 'exercises'\n",
      "Start: 36, End: 45, Substring: 'exercises'\n"
     ]
    }
   ],
   "source": [
    "def find_substrings(text, pattern):\n",
    "    start = 0\n",
    "    locations = []\n",
    "    while start < len(text):\n",
    "        index = text.find(pattern, start)\n",
    "        if index == -1:\n",
    "            break\n",
    "        locations.append((index, index + len(pattern)))\n",
    "        start = index + 1\n",
    "    return locations\n",
    "\n",
    "sample_text = 'Python exercises, PHP exercises, C# exercises'\n",
    "pattern = 'exercises'\n",
    "\n",
    "found_substrings = find_substrings(sample_text, pattern)\n",
    "\n",
    "print(f\"The substrings '{pattern}' found at locations:\")\n",
    "for start, end in found_substrings:\n",
    "    print(f\"Start: {start}, End: {end}, Substring: '{sample_text[start:end]}'\")\n"
   ]
  },
  {
   "cell_type": "markdown",
   "id": "4e5d3ae2",
   "metadata": {},
   "source": [
    "Question 18- Write a Python program to find the occurrence and position of the substrings within a string."
   ]
  },
  {
   "cell_type": "code",
   "execution_count": 32,
   "id": "d4bf9a10",
   "metadata": {},
   "outputs": [],
   "source": [
    "def find_occurrences_positions(main_str, substr):\n",
    "    occurrences = []\n",
    "    start_pos = -1\n",
    "\n",
    "    while True:\n",
    "        start_pos = main_str.find(substr, start_pos + 1)\n",
    "\n",
    "        if start_pos == -1:\n",
    "            break\n",
    "\n",
    "        occurrences.append((substr, start_pos))\n",
    "\n",
    "    return occurrences\n",
    "\n"
   ]
  },
  {
   "cell_type": "markdown",
   "id": "4fe1e0be",
   "metadata": {},
   "source": [
    "Question 19- Write a Python program to convert a date of yyyy-mm-dd format to dd-mm-yyyy format."
   ]
  },
  {
   "cell_type": "code",
   "execution_count": 33,
   "id": "1e971144",
   "metadata": {},
   "outputs": [],
   "source": [
    "def convert_date_format(input_date):\n",
    "    # Splitting the input date\n",
    "    date_components = input_date.split('-')\n",
    "\n",
    "    # Rearrange\n",
    "    output_date = date_components[2] + '-' + date_components[1] + '-' + date_components[0]\n",
    "\n",
    "    return output_date\n",
    "\n"
   ]
  },
  {
   "cell_type": "markdown",
   "id": "d58f71bf",
   "metadata": {},
   "source": [
    "Question 20- Create a function in python to find all decimal numbers with a precision of 1 or 2 in a string. The use of the re.compile() method is mandatory."
   ]
  },
  {
   "cell_type": "code",
   "execution_count": 36,
   "id": "fd6dd552",
   "metadata": {},
   "outputs": [
    {
     "name": "stdout",
     "output_type": "stream",
     "text": [
      "Sample Text: 01.12 0132.123 2.31875 145.8 3.01 27.25 0.25\n",
      "Decimal Numbers: ['01.12', '145.8', '3.01', '27.25', '0.25']\n"
     ]
    }
   ],
   "source": [
    "import re\n",
    "\n",
    "def find_decimal_numbers(text):\n",
    "    # Define the pattern\n",
    "    pattern = re.compile(r'\\b\\d+\\.\\d{1,2}\\b')\n",
    "\n",
    "\n",
    "    matches = pattern.findall(text)\n",
    "\n",
    "    return matches\n",
    "\n",
    "# Sample\n",
    "sample_text = \"01.12 0132.123 2.31875 145.8 3.01 27.25 0.25\"\n",
    "\n",
    "# Find decimal numbers\n",
    "result = find_decimal_numbers(sample_text)\n",
    "\n",
    "print(\"Sample Text:\", sample_text)\n",
    "print(\"Decimal Numbers:\", result)\n",
    "\n"
   ]
  },
  {
   "cell_type": "markdown",
   "id": "54e4b181",
   "metadata": {},
   "source": [
    "Question 21- Write a Python program to separate and print the numbers and their position of a given string."
   ]
  },
  {
   "cell_type": "code",
   "execution_count": 37,
   "id": "84c78c3d",
   "metadata": {},
   "outputs": [],
   "source": [
    "import re\n",
    "\n",
    "def extract_numbers_with_positions(text):\n",
    "    pattern = re.compile(r'\\d')\n",
    "    matches = pattern.finditer(text)\n",
    "\n",
    "    numbers = [match.group() for match in matches]\n",
    "    positions = [match.start() + 1 for match in matches]  # Adding 1\n",
    "\n",
    "    return numbers, positions\n",
    "\n"
   ]
  },
  {
   "cell_type": "markdown",
   "id": "481a01f5",
   "metadata": {},
   "source": [
    "Question 22- Write a regular expression in python program to extract maximum/largest numeric value from a string."
   ]
  },
  {
   "cell_type": "code",
   "execution_count": 38,
   "id": "82659bd4",
   "metadata": {},
   "outputs": [
    {
     "name": "stdout",
     "output_type": "stream",
     "text": [
      "Sample Text: My marks in each semester are: 947, 896, 926, 524, 734, 950, 642\n",
      "Maximum Numeric Value: 950\n"
     ]
    }
   ],
   "source": [
    "import re\n",
    "\n",
    "def extract_maximum_numeric_value(text):\n",
    "    numbers = re.findall(r'\\b\\d+\\b', text)\n",
    "    \n",
    "    if numbers:\n",
    "        max_value = max(map(int, numbers))\n",
    "        return max_value\n",
    "    else:\n",
    "        return None\n",
    "\n",
    "# Sample\n",
    "sample_text = 'My marks in each semester are: 947, 896, 926, 524, 734, 950, 642'\n",
    "\n",
    "# maximum numeric value\n",
    "max_numeric_value = extract_maximum_numeric_value(sample_text)\n",
    "\n",
    "# result\n",
    "print(\"Sample Text:\", sample_text)\n",
    "print(\"Maximum Numeric Value:\", max_numeric_value)\n"
   ]
  },
  {
   "cell_type": "markdown",
   "id": "67154ca3",
   "metadata": {},
   "source": [
    "Question 23- Create a function in python to insert spaces between words starting with capital letters."
   ]
  },
  {
   "cell_type": "code",
   "execution_count": 39,
   "id": "202722c4",
   "metadata": {},
   "outputs": [
    {
     "name": "stdout",
     "output_type": "stream",
     "text": [
      "Sample Text: RegularExpressionIsAnImportantTopicInPython\n",
      "Output Text: Regular Expression Is An Important Topic In Python\n"
     ]
    }
   ],
   "source": [
    "import re\n",
    "\n",
    "def insert_spaces_before_capitals(text):\n",
    "    # Use regex to insert space before capital letters\n",
    "    result = re.sub(r'([a-z])([A-Z])', r'\\1 \\2', text)\n",
    "    return result\n",
    "\n",
    "# Sample\n",
    "sample_text = \"RegularExpressionIsAnImportantTopicInPython\"\n",
    "\n",
    "# Insert spaces before capitals\n",
    "output_text = insert_spaces_before_capitals(sample_text)\n",
    "\n",
    "# result\n",
    "print(\"Sample Text:\", sample_text)\n",
    "print(\"Output Text:\", output_text)\n"
   ]
  },
  {
   "cell_type": "markdown",
   "id": "ee3db903",
   "metadata": {},
   "source": [
    "Question 24- Python regex to find sequences of one upper case letter followed by lower case letters"
   ]
  },
  {
   "cell_type": "code",
   "execution_count": 40,
   "id": "5a36774c",
   "metadata": {},
   "outputs": [
    {
     "name": "stdout",
     "output_type": "stream",
     "text": [
      "Sample Text: ThisIsASequence AnotherSequence YetAnother\n",
      "Sequences: ['This', 'Is', 'Sequence', 'Another', 'Sequence', 'Yet', 'Another']\n"
     ]
    }
   ],
   "source": [
    "import re\n",
    "\n",
    "def find_sequences(text):\n",
    "    result = re.findall(r'[A-Z][a-z]+', text)\n",
    "    return result\n",
    "\n",
    "sample_text = \"ThisIsASequence AnotherSequence YetAnother\"\n",
    "\n",
    "sequences = find_sequences(sample_text)\n",
    "\n",
    "print(\"Sample Text:\", sample_text)\n",
    "print(\"Sequences:\", sequences)\n"
   ]
  },
  {
   "cell_type": "markdown",
   "id": "b6445099",
   "metadata": {},
   "source": [
    "Question 25- Write a Python program to remove continuous duplicate words from Sentence using Regular Expression.\n",
    "Sample Text: \"Hello hello world world\"\n",
    "Expected Output: Hello hello world\n"
   ]
  },
  {
   "cell_type": "code",
   "execution_count": 41,
   "id": "38d89b85",
   "metadata": {},
   "outputs": [
    {
     "name": "stdout",
     "output_type": "stream",
     "text": [
      "Sample Text: Hello hello world world\n",
      "Output Text: Hello world\n"
     ]
    }
   ],
   "source": [
    "import re\n",
    "\n",
    "def remove_continuous_duplicates(sentence):\n",
    "    pattern = re.compile(r'\\b(\\w+)(\\s+\\1)+\\b', flags=re.IGNORECASE)\n",
    "    result = pattern.sub(r'\\1', sentence)\n",
    "    return result\n",
    "\n",
    "sample_text = \"Hello hello world world\"\n",
    "output_text = remove_continuous_duplicates(sample_text)\n",
    "\n",
    "print(\"Sample Text:\", sample_text)\n",
    "print(\"Output Text:\", output_text)\n"
   ]
  },
  {
   "cell_type": "markdown",
   "id": "c76f7def",
   "metadata": {},
   "source": [
    "Question 26-  Write a python program using RegEx to accept string ending with alphanumeric character."
   ]
  },
  {
   "cell_type": "code",
   "execution_count": 42,
   "id": "ca93853b",
   "metadata": {},
   "outputs": [],
   "source": [
    "import re\n",
    "\n",
    "def ends_with_alphanumeric(input_str):\n",
    "    pattern = re.compile(r'.*\\w$')\n",
    "    return bool(pattern.match(input_str))\n"
   ]
  },
  {
   "cell_type": "markdown",
   "id": "80d874ac",
   "metadata": {},
   "source": [
    "Question 27-Write a python program using RegEx to extract the hashtags."
   ]
  },
  {
   "cell_type": "code",
   "execution_count": 43,
   "id": "7d8a83ef",
   "metadata": {},
   "outputs": [
    {
     "name": "stdout",
     "output_type": "stream",
     "text": [
      "['#Doltiwal', '#xyzabc', '#Demonetization']\n"
     ]
    }
   ],
   "source": [
    "import re\n",
    "\n",
    "def extract_hashtags(text):\n",
    "    hashtag_pattern = r'\\#\\w+'\n",
    "    hashtags = re.findall(hashtag_pattern, text)\n",
    "    return hashtags\n",
    "\n",
    "# Sample\n",
    "sample_text = \"\"\"RT @kapil_kausik: #Doltiwal I mean #xyzabc is \"hurt\" by #Demonetization as the same has rendered USELESS <ed><U+00A0><U+00BD><ed><U+00B1><U+0089> \"acquired funds\" No wo\"\"\"\n",
    "\n",
    "# Extract Hashtags\n",
    "result = extract_hashtags(sample_text)\n",
    "\n",
    "# Result\n",
    "print(result)\n"
   ]
  },
  {
   "cell_type": "markdown",
   "id": "27086d4b",
   "metadata": {},
   "source": [
    "Question 28- Write a python program using RegEx to remove <U+..> like symbols\n"
   ]
  },
  {
   "cell_type": "code",
   "execution_count": 44,
   "id": "687570fe",
   "metadata": {},
   "outputs": [
    {
     "name": "stdout",
     "output_type": "stream",
     "text": [
      "@Jags123456 Bharat band on 28??<ed><ed>Those who  are protesting #demonetization  are all different party leaders\n"
     ]
    }
   ],
   "source": [
    "import re\n",
    "\n",
    "def remove_unicode_symbols(text):\n",
    "    # pattern to match <U+..> etc symbols\n",
    "    pattern = r'<U\\+\\w+>'\n",
    "    \n",
    "    cleaned_text = re.sub(pattern, '', text)\n",
    "    \n",
    "    return cleaned_text\n",
    "\n",
    "# Sample\n",
    "sample_text = \"@Jags123456 Bharat band on 28??<ed><U+00A0><U+00BD><ed><U+00B8><U+0082>Those who  are protesting #demonetization  are all different party leaders\"\n",
    "\n",
    "# Remove symbols\n",
    "result = remove_unicode_symbols(sample_text)\n",
    "\n",
    "# Print Result\n",
    "print(result)\n"
   ]
  },
  {
   "cell_type": "markdown",
   "id": "983ba891",
   "metadata": {},
   "source": [
    "\n",
    "Question 29- Write a python program to extract dates from the text stored in the text file.\n",
    "Sample Text: Ron was born on 12-09-1992 and he was admitted to school 15-12-1999.\n",
    "Note- Store this sample text in the file and then extract dates.\n"
   ]
  },
  {
   "cell_type": "code",
   "execution_count": 49,
   "id": "5929911e",
   "metadata": {},
   "outputs": [
    {
     "ename": "UnsupportedOperation",
     "evalue": "read",
     "output_type": "error",
     "traceback": [
      "\u001b[1;31m---------------------------------------------------------------------------\u001b[0m",
      "\u001b[1;31mUnsupportedOperation\u001b[0m                      Traceback (most recent call last)",
      "Cell \u001b[1;32mIn[49], line 2\u001b[0m\n\u001b[0;32m      1\u001b[0m \u001b[38;5;28;01mimport\u001b[39;00m \u001b[38;5;21;01mre\u001b[39;00m\n\u001b[1;32m----> 2\u001b[0m text \u001b[38;5;241m=\u001b[39m file\u001b[38;5;241m.\u001b[39mread()\n\u001b[0;32m      3\u001b[0m pattern \u001b[38;5;241m=\u001b[39m \u001b[38;5;124mr\u001b[39m\u001b[38;5;124m'\u001b[39m\u001b[38;5;124m\\\u001b[39m\u001b[38;5;124md\u001b[39m\u001b[38;5;132;01m{2}\u001b[39;00m\u001b[38;5;124m-\u001b[39m\u001b[38;5;124m\\\u001b[39m\u001b[38;5;124md\u001b[39m\u001b[38;5;132;01m{2}\u001b[39;00m\u001b[38;5;124m-\u001b[39m\u001b[38;5;124m\\\u001b[39m\u001b[38;5;124md\u001b[39m\u001b[38;5;132;01m{4}\u001b[39;00m\u001b[38;5;124m'\u001b[39m\n\u001b[0;32m      4\u001b[0m dates \u001b[38;5;241m=\u001b[39m re\u001b[38;5;241m.\u001b[39mfindall(pattern, text)\n",
      "\u001b[1;31mUnsupportedOperation\u001b[0m: read"
     ]
    }
   ],
   "source": [
    "import re\n",
    "text = file.read()\n",
    "pattern = r'\\d{2}-\\d{2}-\\d{4}'\n",
    "dates = re.findall(pattern, text)\n",
    "for date in dates:\n",
    "    print(date)\n",
    "    print()"
   ]
  },
  {
   "cell_type": "markdown",
   "id": "88899b65",
   "metadata": {},
   "source": [
    "Question 30- Create a function in python to remove all words from a string of length between 2 and 4.\n",
    "The use of the re.compile() method is mandatory."
   ]
  },
  {
   "cell_type": "code",
   "execution_count": 51,
   "id": "53d64d8c",
   "metadata": {},
   "outputs": [
    {
     "name": "stdout",
     "output_type": "stream",
     "text": [
      " following example creates  ArrayList  a capacity   elements. 4 elements   added   ArrayList   ArrayList  trimmed accordingly.\n"
     ]
    }
   ],
   "source": [
    "import re\n",
    "\n",
    "def remove_words_from_a_string(text):\n",
    "    pattern = re.compile(r'\\b\\w{2,4}\\b')\n",
    "    result = pattern.sub('', text)\n",
    "    return result\n",
    "\n",
    "sample_text = \"The following example creates an ArrayList with a capacity of 50 elements. 4 elements are then added to the ArrayList and the ArrayList is trimmed accordingly.\"\n",
    "\n",
    "output_text = remove_words_from_a_string(sample_text)\n",
    "print(output_text)\n"
   ]
  },
  {
   "cell_type": "code",
   "execution_count": null,
   "id": "d9cbf11c",
   "metadata": {},
   "outputs": [],
   "source": []
  }
 ],
 "metadata": {
  "kernelspec": {
   "display_name": "Python 3 (ipykernel)",
   "language": "python",
   "name": "python3"
  },
  "language_info": {
   "codemirror_mode": {
    "name": "ipython",
    "version": 3
   },
   "file_extension": ".py",
   "mimetype": "text/x-python",
   "name": "python",
   "nbconvert_exporter": "python",
   "pygments_lexer": "ipython3",
   "version": "3.11.5"
  }
 },
 "nbformat": 4,
 "nbformat_minor": 5
}
